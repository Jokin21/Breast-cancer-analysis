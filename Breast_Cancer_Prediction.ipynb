{
 "cells": [
  {
   "cell_type": "markdown",
   "metadata": {},
   "source": [
    "# Breast Cancer Prediction"
   ]
  },
  {
   "cell_type": "markdown",
   "metadata": {},
   "source": [
    "## Aim"
   ]
  },
  {
   "cell_type": "markdown",
   "metadata": {},
   "source": [
    "* **The objective of this project is to create a predictive model that can accurately classify breast\n",
    "    cancer cases as benign or malignant based on a set of relevant features. By leveraging\n",
    "    historical data and applying machine learning techniques, we aim to develop a reliable tool for\n",
    "    assisting medical professionals in diagnosing breast cancer.**"
   ]
  },
  {
   "cell_type": "markdown",
   "metadata": {},
   "source": [
    "## Project done by"
   ]
  },
  {
   "cell_type": "markdown",
   "metadata": {},
   "source": [
    "* **Jokin Prabhu**"
   ]
  },
  {
   "cell_type": "markdown",
   "metadata": {},
   "source": [
    "## Data Set\n",
    "* **i have download the dataset from the kaggle website.**"
   ]
  },
  {
   "cell_type": "markdown",
   "metadata": {},
   "source": [
    "## Introduction\n",
    "\n",
    "* **Breast cancer is a prevalent and potentially life-threatening disease that affects millions of individuals worldwide. Early detection and accurate diagnosis are critical factors in improving patient outcomes. This project's primary objective is to harness the power of machine learning to create a predictive model capable of accurately classifying breast cancer cases as benign or malignant. By leveraging historical data and employing advanced data analysis techniques, we aim to develop a reliable tool to assist medical professionals in the early diagnosis of breast cancer.**"
   ]
  },
  {
   "cell_type": "markdown",
   "metadata": {},
   "source": [
    "# Load The Modules"
   ]
  },
  {
   "cell_type": "code",
   "execution_count": 46,
   "metadata": {
    "execution": {
     "iopub.execute_input": "2022-07-11T05:45:49.797252Z",
     "iopub.status.busy": "2022-07-11T05:45:49.796647Z",
     "iopub.status.idle": "2022-07-11T05:45:49.804391Z",
     "shell.execute_reply": "2022-07-11T05:45:49.802639Z",
     "shell.execute_reply.started": "2022-07-11T05:45:49.797217Z"
    }
   },
   "outputs": [],
   "source": [
    "import pandas as pd\n",
    "import numpy as np\n",
    "import matplotlib.pyplot as plt\n",
    "import seaborn as sns\n",
    "from scipy.stats import pearsonr\n",
    "from scipy.stats import stats\n",
    "\n",
    "from sklearn.preprocessing import StandardScaler\n",
    "from sklearn.linear_model import LinearRegression\n",
    "from sklearn.metrics import accuracy_score, confusion_matrix\n",
    "from sklearn.model_selection import train_test_split\n",
    "\n",
    "from sklearn.metrics import mean_absolute_error\n",
    "from sklearn.metrics import mean_squared_error"
   ]
  },
  {
   "cell_type": "markdown",
   "metadata": {},
   "source": [
    "# Load the Dataset"
   ]
  },
  {
   "cell_type": "code",
   "execution_count": 47,
   "metadata": {
    "execution": {
     "iopub.execute_input": "2022-07-11T05:45:49.807470Z",
     "iopub.status.busy": "2022-07-11T05:45:49.806958Z",
     "iopub.status.idle": "2022-07-11T05:45:49.821432Z",
     "shell.execute_reply": "2022-07-11T05:45:49.820308Z",
     "shell.execute_reply.started": "2022-07-11T05:45:49.807439Z"
    }
   },
   "outputs": [],
   "source": [
    "df = pd.read_csv(\"C:\\\\Users\\\\Ragu.M\\\\Breast Cancer Prediction\\\\Breast_cancer_data.csv\")\n"
   ]
  },
  {
   "cell_type": "code",
   "execution_count": 48,
   "metadata": {
    "execution": {
     "iopub.execute_input": "2022-07-11T05:45:49.858759Z",
     "iopub.status.busy": "2022-07-11T05:45:49.857943Z",
     "iopub.status.idle": "2022-07-11T05:45:49.874309Z",
     "shell.execute_reply": "2022-07-11T05:45:49.873231Z",
     "shell.execute_reply.started": "2022-07-11T05:45:49.858733Z"
    }
   },
   "outputs": [
    {
     "data": {
      "text/html": [
       "<div>\n",
       "<style scoped>\n",
       "    .dataframe tbody tr th:only-of-type {\n",
       "        vertical-align: middle;\n",
       "    }\n",
       "\n",
       "    .dataframe tbody tr th {\n",
       "        vertical-align: top;\n",
       "    }\n",
       "\n",
       "    .dataframe thead th {\n",
       "        text-align: right;\n",
       "    }\n",
       "</style>\n",
       "<table border=\"1\" class=\"dataframe\">\n",
       "  <thead>\n",
       "    <tr style=\"text-align: right;\">\n",
       "      <th></th>\n",
       "      <th>mean_radius</th>\n",
       "      <th>mean_texture</th>\n",
       "      <th>mean_perimeter</th>\n",
       "      <th>mean_area</th>\n",
       "      <th>mean_smoothness</th>\n",
       "      <th>diagnosis</th>\n",
       "    </tr>\n",
       "  </thead>\n",
       "  <tbody>\n",
       "    <tr>\n",
       "      <th>0</th>\n",
       "      <td>17.99</td>\n",
       "      <td>10.38</td>\n",
       "      <td>122.80</td>\n",
       "      <td>1001.0</td>\n",
       "      <td>0.11840</td>\n",
       "      <td>0</td>\n",
       "    </tr>\n",
       "    <tr>\n",
       "      <th>1</th>\n",
       "      <td>20.57</td>\n",
       "      <td>17.77</td>\n",
       "      <td>132.90</td>\n",
       "      <td>1326.0</td>\n",
       "      <td>0.08474</td>\n",
       "      <td>0</td>\n",
       "    </tr>\n",
       "    <tr>\n",
       "      <th>2</th>\n",
       "      <td>19.69</td>\n",
       "      <td>21.25</td>\n",
       "      <td>130.00</td>\n",
       "      <td>1203.0</td>\n",
       "      <td>0.10960</td>\n",
       "      <td>0</td>\n",
       "    </tr>\n",
       "    <tr>\n",
       "      <th>3</th>\n",
       "      <td>11.42</td>\n",
       "      <td>20.38</td>\n",
       "      <td>77.58</td>\n",
       "      <td>386.1</td>\n",
       "      <td>0.14250</td>\n",
       "      <td>0</td>\n",
       "    </tr>\n",
       "    <tr>\n",
       "      <th>4</th>\n",
       "      <td>20.29</td>\n",
       "      <td>14.34</td>\n",
       "      <td>135.10</td>\n",
       "      <td>1297.0</td>\n",
       "      <td>0.10030</td>\n",
       "      <td>0</td>\n",
       "    </tr>\n",
       "  </tbody>\n",
       "</table>\n",
       "</div>"
      ],
      "text/plain": [
       "   mean_radius  mean_texture  mean_perimeter  mean_area  mean_smoothness  \\\n",
       "0        17.99         10.38          122.80     1001.0          0.11840   \n",
       "1        20.57         17.77          132.90     1326.0          0.08474   \n",
       "2        19.69         21.25          130.00     1203.0          0.10960   \n",
       "3        11.42         20.38           77.58      386.1          0.14250   \n",
       "4        20.29         14.34          135.10     1297.0          0.10030   \n",
       "\n",
       "   diagnosis  \n",
       "0          0  \n",
       "1          0  \n",
       "2          0  \n",
       "3          0  \n",
       "4          0  "
      ]
     },
     "execution_count": 48,
     "metadata": {},
     "output_type": "execute_result"
    }
   ],
   "source": [
    "df.head()"
   ]
  },
  {
   "cell_type": "code",
   "execution_count": 49,
   "metadata": {
    "execution": {
     "iopub.execute_input": "2022-07-11T05:45:49.876616Z",
     "iopub.status.busy": "2022-07-11T05:45:49.875992Z",
     "iopub.status.idle": "2022-07-11T05:45:49.892108Z",
     "shell.execute_reply": "2022-07-11T05:45:49.890140Z",
     "shell.execute_reply.started": "2022-07-11T05:45:49.876587Z"
    }
   },
   "outputs": [
    {
     "data": {
      "text/html": [
       "<div>\n",
       "<style scoped>\n",
       "    .dataframe tbody tr th:only-of-type {\n",
       "        vertical-align: middle;\n",
       "    }\n",
       "\n",
       "    .dataframe tbody tr th {\n",
       "        vertical-align: top;\n",
       "    }\n",
       "\n",
       "    .dataframe thead th {\n",
       "        text-align: right;\n",
       "    }\n",
       "</style>\n",
       "<table border=\"1\" class=\"dataframe\">\n",
       "  <thead>\n",
       "    <tr style=\"text-align: right;\">\n",
       "      <th></th>\n",
       "      <th>mean_radius</th>\n",
       "      <th>mean_texture</th>\n",
       "      <th>mean_perimeter</th>\n",
       "      <th>mean_area</th>\n",
       "      <th>mean_smoothness</th>\n",
       "      <th>diagnosis</th>\n",
       "    </tr>\n",
       "  </thead>\n",
       "  <tbody>\n",
       "    <tr>\n",
       "      <th>564</th>\n",
       "      <td>21.56</td>\n",
       "      <td>22.39</td>\n",
       "      <td>142.00</td>\n",
       "      <td>1479.0</td>\n",
       "      <td>0.11100</td>\n",
       "      <td>0</td>\n",
       "    </tr>\n",
       "    <tr>\n",
       "      <th>565</th>\n",
       "      <td>20.13</td>\n",
       "      <td>28.25</td>\n",
       "      <td>131.20</td>\n",
       "      <td>1261.0</td>\n",
       "      <td>0.09780</td>\n",
       "      <td>0</td>\n",
       "    </tr>\n",
       "    <tr>\n",
       "      <th>566</th>\n",
       "      <td>16.60</td>\n",
       "      <td>28.08</td>\n",
       "      <td>108.30</td>\n",
       "      <td>858.1</td>\n",
       "      <td>0.08455</td>\n",
       "      <td>0</td>\n",
       "    </tr>\n",
       "    <tr>\n",
       "      <th>567</th>\n",
       "      <td>20.60</td>\n",
       "      <td>29.33</td>\n",
       "      <td>140.10</td>\n",
       "      <td>1265.0</td>\n",
       "      <td>0.11780</td>\n",
       "      <td>0</td>\n",
       "    </tr>\n",
       "    <tr>\n",
       "      <th>568</th>\n",
       "      <td>7.76</td>\n",
       "      <td>24.54</td>\n",
       "      <td>47.92</td>\n",
       "      <td>181.0</td>\n",
       "      <td>0.05263</td>\n",
       "      <td>1</td>\n",
       "    </tr>\n",
       "  </tbody>\n",
       "</table>\n",
       "</div>"
      ],
      "text/plain": [
       "     mean_radius  mean_texture  mean_perimeter  mean_area  mean_smoothness  \\\n",
       "564        21.56         22.39          142.00     1479.0          0.11100   \n",
       "565        20.13         28.25          131.20     1261.0          0.09780   \n",
       "566        16.60         28.08          108.30      858.1          0.08455   \n",
       "567        20.60         29.33          140.10     1265.0          0.11780   \n",
       "568         7.76         24.54           47.92      181.0          0.05263   \n",
       "\n",
       "     diagnosis  \n",
       "564          0  \n",
       "565          0  \n",
       "566          0  \n",
       "567          0  \n",
       "568          1  "
      ]
     },
     "execution_count": 49,
     "metadata": {},
     "output_type": "execute_result"
    }
   ],
   "source": [
    "df.tail()"
   ]
  },
  {
   "cell_type": "code",
   "execution_count": 50,
   "metadata": {
    "execution": {
     "iopub.execute_input": "2022-07-11T05:45:49.946089Z",
     "iopub.status.busy": "2022-07-11T05:45:49.945512Z",
     "iopub.status.idle": "2022-07-11T05:45:49.983363Z",
     "shell.execute_reply": "2022-07-11T05:45:49.982211Z",
     "shell.execute_reply.started": "2022-07-11T05:45:49.946059Z"
    }
   },
   "outputs": [
    {
     "data": {
      "text/html": [
       "<div>\n",
       "<style scoped>\n",
       "    .dataframe tbody tr th:only-of-type {\n",
       "        vertical-align: middle;\n",
       "    }\n",
       "\n",
       "    .dataframe tbody tr th {\n",
       "        vertical-align: top;\n",
       "    }\n",
       "\n",
       "    .dataframe thead th {\n",
       "        text-align: right;\n",
       "    }\n",
       "</style>\n",
       "<table border=\"1\" class=\"dataframe\">\n",
       "  <thead>\n",
       "    <tr style=\"text-align: right;\">\n",
       "      <th></th>\n",
       "      <th>count</th>\n",
       "      <th>mean</th>\n",
       "      <th>std</th>\n",
       "      <th>min</th>\n",
       "      <th>25%</th>\n",
       "      <th>50%</th>\n",
       "      <th>75%</th>\n",
       "      <th>max</th>\n",
       "    </tr>\n",
       "  </thead>\n",
       "  <tbody>\n",
       "    <tr>\n",
       "      <th>mean_radius</th>\n",
       "      <td>569.0</td>\n",
       "      <td>14.127292</td>\n",
       "      <td>3.524049</td>\n",
       "      <td>6.98100</td>\n",
       "      <td>11.70000</td>\n",
       "      <td>13.37000</td>\n",
       "      <td>15.7800</td>\n",
       "      <td>28.1100</td>\n",
       "    </tr>\n",
       "    <tr>\n",
       "      <th>mean_texture</th>\n",
       "      <td>569.0</td>\n",
       "      <td>19.289649</td>\n",
       "      <td>4.301036</td>\n",
       "      <td>9.71000</td>\n",
       "      <td>16.17000</td>\n",
       "      <td>18.84000</td>\n",
       "      <td>21.8000</td>\n",
       "      <td>39.2800</td>\n",
       "    </tr>\n",
       "    <tr>\n",
       "      <th>mean_perimeter</th>\n",
       "      <td>569.0</td>\n",
       "      <td>91.969033</td>\n",
       "      <td>24.298981</td>\n",
       "      <td>43.79000</td>\n",
       "      <td>75.17000</td>\n",
       "      <td>86.24000</td>\n",
       "      <td>104.1000</td>\n",
       "      <td>188.5000</td>\n",
       "    </tr>\n",
       "    <tr>\n",
       "      <th>mean_area</th>\n",
       "      <td>569.0</td>\n",
       "      <td>654.889104</td>\n",
       "      <td>351.914129</td>\n",
       "      <td>143.50000</td>\n",
       "      <td>420.30000</td>\n",
       "      <td>551.10000</td>\n",
       "      <td>782.7000</td>\n",
       "      <td>2501.0000</td>\n",
       "    </tr>\n",
       "    <tr>\n",
       "      <th>mean_smoothness</th>\n",
       "      <td>569.0</td>\n",
       "      <td>0.096360</td>\n",
       "      <td>0.014064</td>\n",
       "      <td>0.05263</td>\n",
       "      <td>0.08637</td>\n",
       "      <td>0.09587</td>\n",
       "      <td>0.1053</td>\n",
       "      <td>0.1634</td>\n",
       "    </tr>\n",
       "    <tr>\n",
       "      <th>diagnosis</th>\n",
       "      <td>569.0</td>\n",
       "      <td>0.627417</td>\n",
       "      <td>0.483918</td>\n",
       "      <td>0.00000</td>\n",
       "      <td>0.00000</td>\n",
       "      <td>1.00000</td>\n",
       "      <td>1.0000</td>\n",
       "      <td>1.0000</td>\n",
       "    </tr>\n",
       "  </tbody>\n",
       "</table>\n",
       "</div>"
      ],
      "text/plain": [
       "                 count        mean         std        min        25%  \\\n",
       "mean_radius      569.0   14.127292    3.524049    6.98100   11.70000   \n",
       "mean_texture     569.0   19.289649    4.301036    9.71000   16.17000   \n",
       "mean_perimeter   569.0   91.969033   24.298981   43.79000   75.17000   \n",
       "mean_area        569.0  654.889104  351.914129  143.50000  420.30000   \n",
       "mean_smoothness  569.0    0.096360    0.014064    0.05263    0.08637   \n",
       "diagnosis        569.0    0.627417    0.483918    0.00000    0.00000   \n",
       "\n",
       "                       50%       75%        max  \n",
       "mean_radius       13.37000   15.7800    28.1100  \n",
       "mean_texture      18.84000   21.8000    39.2800  \n",
       "mean_perimeter    86.24000  104.1000   188.5000  \n",
       "mean_area        551.10000  782.7000  2501.0000  \n",
       "mean_smoothness    0.09587    0.1053     0.1634  \n",
       "diagnosis          1.00000    1.0000     1.0000  "
      ]
     },
     "execution_count": 50,
     "metadata": {},
     "output_type": "execute_result"
    }
   ],
   "source": [
    "df.describe().T"
   ]
  },
  {
   "cell_type": "code",
   "execution_count": 51,
   "metadata": {
    "execution": {
     "iopub.execute_input": "2022-07-11T05:45:49.986573Z",
     "iopub.status.busy": "2022-07-11T05:45:49.985530Z",
     "iopub.status.idle": "2022-07-11T05:45:50.000284Z",
     "shell.execute_reply": "2022-07-11T05:45:49.999333Z",
     "shell.execute_reply.started": "2022-07-11T05:45:49.986509Z"
    }
   },
   "outputs": [
    {
     "name": "stdout",
     "output_type": "stream",
     "text": [
      "<class 'pandas.core.frame.DataFrame'>\n",
      "RangeIndex: 569 entries, 0 to 568\n",
      "Data columns (total 6 columns):\n",
      " #   Column           Non-Null Count  Dtype  \n",
      "---  ------           --------------  -----  \n",
      " 0   mean_radius      569 non-null    float64\n",
      " 1   mean_texture     569 non-null    float64\n",
      " 2   mean_perimeter   569 non-null    float64\n",
      " 3   mean_area        569 non-null    float64\n",
      " 4   mean_smoothness  569 non-null    float64\n",
      " 5   diagnosis        569 non-null    int64  \n",
      "dtypes: float64(5), int64(1)\n",
      "memory usage: 26.8 KB\n"
     ]
    }
   ],
   "source": [
    "df.info()"
   ]
  },
  {
   "cell_type": "code",
   "execution_count": 52,
   "metadata": {
    "execution": {
     "iopub.execute_input": "2022-07-11T05:45:50.002561Z",
     "iopub.status.busy": "2022-07-11T05:45:50.001431Z",
     "iopub.status.idle": "2022-07-11T05:45:50.019474Z",
     "shell.execute_reply": "2022-07-11T05:45:50.017634Z",
     "shell.execute_reply.started": "2022-07-11T05:45:50.002509Z"
    }
   },
   "outputs": [
    {
     "data": {
      "text/plain": [
       "mean_radius        0\n",
       "mean_texture       0\n",
       "mean_perimeter     0\n",
       "mean_area          0\n",
       "mean_smoothness    0\n",
       "diagnosis          0\n",
       "dtype: int64"
      ]
     },
     "execution_count": 52,
     "metadata": {},
     "output_type": "execute_result"
    }
   ],
   "source": [
    "df.isna().sum()"
   ]
  },
  {
   "cell_type": "markdown",
   "metadata": {},
   "source": [
    "# I. Exploratory Data Analysis"
   ]
  },
  {
   "cell_type": "markdown",
   "metadata": {},
   "source": [
    "## **1.Feature: mean_radius**"
   ]
  },
  {
   "cell_type": "code",
   "execution_count": 53,
   "metadata": {
    "execution": {
     "iopub.execute_input": "2022-07-11T05:45:50.022394Z",
     "iopub.status.busy": "2022-07-11T05:45:50.021599Z",
     "iopub.status.idle": "2022-07-11T05:45:50.033459Z",
     "shell.execute_reply": "2022-07-11T05:45:50.032812Z",
     "shell.execute_reply.started": "2022-07-11T05:45:50.022362Z"
    }
   },
   "outputs": [
    {
     "data": {
      "text/plain": [
       "0.9423795716730992"
      ]
     },
     "execution_count": 53,
     "metadata": {},
     "output_type": "execute_result"
    }
   ],
   "source": [
    "# skewness\n",
    "df['mean_radius'].skew(axis=0)"
   ]
  },
  {
   "cell_type": "code",
   "execution_count": 54,
   "metadata": {
    "execution": {
     "iopub.execute_input": "2022-07-11T05:45:50.035482Z",
     "iopub.status.busy": "2022-07-11T05:45:50.034589Z",
     "iopub.status.idle": "2022-07-11T05:45:50.268340Z",
     "shell.execute_reply": "2022-07-11T05:45:50.266924Z",
     "shell.execute_reply.started": "2022-07-11T05:45:50.035444Z"
    }
   },
   "outputs": [
    {
     "data": {
      "text/plain": [
       "<seaborn.axisgrid.FacetGrid at 0x21cda508ee0>"
      ]
     },
     "execution_count": 54,
     "metadata": {},
     "output_type": "execute_result"
    },
    {
     "data": {
      "image/png": "[encoded data removed]",
      "text/plain": [
       "<Figure size 360x360 with 1 Axes>"
      ]
     },
     "metadata": {
      "needs_background": "light"
     },
     "output_type": "display_data"
    }
   ],
   "source": [
    "# Visualize skewness\n",
    "sns.displot(df['mean_radius'], kind='kde')"
   ]
  },
  {
   "cell_type": "code",
   "execution_count": 55,
   "metadata": {
    "execution": {
     "iopub.execute_input": "2022-07-11T05:45:50.271937Z",
     "iopub.status.busy": "2022-07-11T05:45:50.271558Z",
     "iopub.status.idle": "2022-07-11T05:45:50.392964Z",
     "shell.execute_reply": "2022-07-11T05:45:50.392035Z",
     "shell.execute_reply.started": "2022-07-11T05:45:50.271906Z"
    }
   },
   "outputs": [
    {
     "name": "stderr",
     "output_type": "stream",
     "text": [
      "C:\\Users\\Ragu.M\\anaconda3\\lib\\site-packages\\seaborn\\_decorators.py:36: FutureWarning: Pass the following variable as a keyword arg: x. From version 0.12, the only valid positional argument will be `data`, and passing other arguments without an explicit keyword will result in an error or misinterpretation.\n",
      "  warnings.warn(\n"
     ]
    },
    {
     "data": {
      "text/plain": [
       "<AxesSubplot:xlabel='mean_radius'>"
      ]
     },
     "execution_count": 55,
     "metadata": {},
     "output_type": "execute_result"
    },
    {
     "data": {
      "image/png": "[encoded data removed]",
      "text/plain": [
       "<Figure size 432x288 with 1 Axes>"
      ]
     },
     "metadata": {
      "needs_background": "light"
     },
     "output_type": "display_data"
    }
   ],
   "source": [
    "# Outlier Identification\n",
    "sns.boxplot(df['mean_radius'])"
   ]
  },
  {
   "cell_type": "markdown",
   "metadata": {},
   "source": [
    "we have found some upper outliers"
   ]
  },
  {
   "cell_type": "markdown",
   "metadata": {},
   "source": [
    "## Feature 2:mean_texture"
   ]
  },
  {
   "cell_type": "code",
   "execution_count": 56,
   "metadata": {
    "execution": {
     "iopub.execute_input": "2022-07-11T05:45:50.395023Z",
     "iopub.status.busy": "2022-07-11T05:45:50.394380Z",
     "iopub.status.idle": "2022-07-11T05:45:50.402613Z",
     "shell.execute_reply": "2022-07-11T05:45:50.401895Z",
     "shell.execute_reply.started": "2022-07-11T05:45:50.394989Z"
    }
   },
   "outputs": [
    {
     "data": {
      "text/plain": [
       "0.6504495420828159"
      ]
     },
     "execution_count": 56,
     "metadata": {},
     "output_type": "execute_result"
    }
   ],
   "source": [
    "# skewness\n",
    "df['mean_texture'].skew(axis=0)"
   ]
  },
  {
   "cell_type": "code",
   "execution_count": 57,
   "metadata": {
    "execution": {
     "iopub.execute_input": "2022-07-11T05:45:50.404547Z",
     "iopub.status.busy": "2022-07-11T05:45:50.404068Z",
     "iopub.status.idle": "2022-07-11T05:45:50.608905Z",
     "shell.execute_reply": "2022-07-11T05:45:50.607631Z",
     "shell.execute_reply.started": "2022-07-11T05:45:50.404516Z"
    }
   },
   "outputs": [
    {
     "data": {
      "text/plain": [
       "<seaborn.axisgrid.FacetGrid at 0x21cda0345e0>"
      ]
     },
     "execution_count": 57,
     "metadata": {},
     "output_type": "execute_result"
    },
    {
     "data": {
      "image/png": "[encoded data removed]",
      "text/plain": [
       "<Figure size 360x360 with 1 Axes>"
      ]
     },
     "metadata": {
      "needs_background": "light"
     },
     "output_type": "display_data"
    }
   ],
   "source": [
    "# Visualize the skewness\n",
    "sns.displot(df['mean_texture'], kind='kde')"
   ]
  },
  {
   "cell_type": "markdown",
   "metadata": {},
   "source": [
    "mean_texture is normally distributed"
   ]
  },
  {
   "cell_type": "code",
   "execution_count": 58,
   "metadata": {
    "execution": {
     "iopub.execute_input": "2022-07-11T05:45:50.610660Z",
     "iopub.status.busy": "2022-07-11T05:45:50.610388Z",
     "iopub.status.idle": "2022-07-11T05:45:50.703335Z",
     "shell.execute_reply": "2022-07-11T05:45:50.702268Z",
     "shell.execute_reply.started": "2022-07-11T05:45:50.610636Z"
    }
   },
   "outputs": [
    {
     "data": {
      "text/plain": [
       "<AxesSubplot:>"
      ]
     },
     "execution_count": 58,
     "metadata": {},
     "output_type": "execute_result"
    },
    {
     "data": {
      "image/png": "[encoded data removed]",
      "text/plain": [
       "<Figure size 432x288 with 1 Axes>"
      ]
     },
     "metadata": {
      "needs_background": "light"
     },
     "output_type": "display_data"
    }
   ],
   "source": [
    "# Find the outliers\n",
    "sns.boxplot(data=df['mean_texture'])"
   ]
  },
  {
   "cell_type": "markdown",
   "metadata": {},
   "source": [
    "Found some upper outliers"
   ]
  },
  {
   "cell_type": "markdown",
   "metadata": {},
   "source": [
    "## Feature 3: mean_perimeter"
   ]
  },
  {
   "cell_type": "code",
   "execution_count": 59,
   "metadata": {
    "execution": {
     "iopub.execute_input": "2022-07-11T05:45:50.707658Z",
     "iopub.status.busy": "2022-07-11T05:45:50.707383Z",
     "iopub.status.idle": "2022-07-11T05:45:50.714834Z",
     "shell.execute_reply": "2022-07-11T05:45:50.714003Z",
     "shell.execute_reply.started": "2022-07-11T05:45:50.707633Z"
    }
   },
   "outputs": [
    {
     "data": {
      "text/plain": [
       "0.9906504253930081"
      ]
     },
     "execution_count": 59,
     "metadata": {},
     "output_type": "execute_result"
    }
   ],
   "source": [
    "# skewness\n",
    "df['mean_perimeter'].skew(axis=0)"
   ]
  },
  {
   "cell_type": "code",
   "execution_count": 60,
   "metadata": {
    "execution": {
     "iopub.execute_input": "2022-07-11T05:45:50.716727Z",
     "iopub.status.busy": "2022-07-11T05:45:50.716182Z",
     "iopub.status.idle": "2022-07-11T05:45:50.901230Z",
     "shell.execute_reply": "2022-07-11T05:45:50.900578Z",
     "shell.execute_reply.started": "2022-07-11T05:45:50.716677Z"
    }
   },
   "outputs": [
    {
     "data": {
      "text/plain": [
       "<seaborn.axisgrid.FacetGrid at 0x21cd8fa8970>"
      ]
     },
     "execution_count": 60,
     "metadata": {},
     "output_type": "execute_result"
    },
    {
     "data": {
      "image/png": "[encoded data removed]",
      "text/plain": [
       "<Figure size 360x360 with 1 Axes>"
      ]
     },
     "metadata": {
      "needs_background": "light"
     },
     "output_type": "display_data"
    }
   ],
   "source": [
    "# visualize skewness\n",
    "sns.displot(df['mean_perimeter'], kind='kde')"
   ]
  },
  {
   "cell_type": "markdown",
   "metadata": {},
   "source": [
    "data is right skewed"
   ]
  },
  {
   "cell_type": "code",
   "execution_count": 61,
   "metadata": {
    "execution": {
     "iopub.execute_input": "2022-07-11T05:45:50.903079Z",
     "iopub.status.busy": "2022-07-11T05:45:50.902515Z",
     "iopub.status.idle": "2022-07-11T05:45:50.996472Z",
     "shell.execute_reply": "2022-07-11T05:45:50.995832Z",
     "shell.execute_reply.started": "2022-07-11T05:45:50.903045Z"
    }
   },
   "outputs": [
    {
     "name": "stderr",
     "output_type": "stream",
     "text": [
      "C:\\Users\\Ragu.M\\anaconda3\\lib\\site-packages\\seaborn\\_decorators.py:36: FutureWarning: Pass the following variable as a keyword arg: x. From version 0.12, the only valid positional argument will be `data`, and passing other arguments without an explicit keyword will result in an error or misinterpretation.\n",
      "  warnings.warn(\n"
     ]
    },
    {
     "data": {
      "text/plain": [
       "<AxesSubplot:xlabel='mean_perimeter'>"
      ]
     },
     "execution_count": 61,
     "metadata": {},
     "output_type": "execute_result"
    },
    {
     "data": {
      "image/png": "[encoded data removed]",
      "text/plain": [
       "<Figure size 432x288 with 1 Axes>"
      ]
     },
     "metadata": {
      "needs_background": "light"
     },
     "output_type": "display_data"
    }
   ],
   "source": [
    "# find the outliers\n",
    "sns.boxplot(df['mean_perimeter'])"
   ]
  },
  {
   "cell_type": "markdown",
   "metadata": {},
   "source": [
    "found some upper outliers"
   ]
  },
  {
   "cell_type": "markdown",
   "metadata": {},
   "source": [
    "## Feature 4:mean_area"
   ]
  },
  {
   "cell_type": "code",
   "execution_count": 62,
   "metadata": {
    "execution": {
     "iopub.execute_input": "2022-07-11T05:45:50.998282Z",
     "iopub.status.busy": "2022-07-11T05:45:50.997773Z",
     "iopub.status.idle": "2022-07-11T05:45:51.005643Z",
     "shell.execute_reply": "2022-07-11T05:45:51.004792Z",
     "shell.execute_reply.started": "2022-07-11T05:45:50.998250Z"
    }
   },
   "outputs": [
    {
     "data": {
      "text/plain": [
       "1.6457321756240424"
      ]
     },
     "execution_count": 62,
     "metadata": {},
     "output_type": "execute_result"
    }
   ],
   "source": [
    "df['mean_area'].skew(axis=0)"
   ]
  },
  {
   "cell_type": "code",
   "execution_count": 63,
   "metadata": {
    "execution": {
     "iopub.execute_input": "2022-07-11T05:45:51.007343Z",
     "iopub.status.busy": "2022-07-11T05:45:51.006891Z",
     "iopub.status.idle": "2022-07-11T05:45:51.209890Z",
     "shell.execute_reply": "2022-07-11T05:45:51.209193Z",
     "shell.execute_reply.started": "2022-07-11T05:45:51.007312Z"
    }
   },
   "outputs": [
    {
     "data": {
      "text/plain": [
       "<seaborn.axisgrid.FacetGrid at 0x21cd9365af0>"
      ]
     },
     "execution_count": 63,
     "metadata": {},
     "output_type": "execute_result"
    },
    {
     "data": {
      "image/png": "[encoded data removed]",
      "text/plain": [
       "<Figure size 360x360 with 1 Axes>"
      ]
     },
     "metadata": {
      "needs_background": "light"
     },
     "output_type": "display_data"
    }
   ],
   "source": [
    "sns.displot(df['mean_area'],kind='kde')"
   ]
  },
  {
   "cell_type": "markdown",
   "metadata": {},
   "source": [
    "feature is right skewed"
   ]
  },
  {
   "cell_type": "code",
   "execution_count": 64,
   "metadata": {
    "execution": {
     "iopub.execute_input": "2022-07-11T05:45:51.211709Z",
     "iopub.status.busy": "2022-07-11T05:45:51.210919Z",
     "iopub.status.idle": "2022-07-11T05:45:51.294022Z",
     "shell.execute_reply": "2022-07-11T05:45:51.293257Z",
     "shell.execute_reply.started": "2022-07-11T05:45:51.211674Z"
    }
   },
   "outputs": [
    {
     "data": {
      "text/plain": [
       "<AxesSubplot:>"
      ]
     },
     "execution_count": 64,
     "metadata": {},
     "output_type": "execute_result"
    },
    {
     "data": {
      "image/png": "[encoded data removed]",
      "text/plain": [
       "<Figure size 432x288 with 1 Axes>"
      ]
     },
     "metadata": {
      "needs_background": "light"
     },
     "output_type": "display_data"
    }
   ],
   "source": [
    "# Outliers\n",
    "sns.boxplot(data=df['mean_area'])"
   ]
  },
  {
   "cell_type": "markdown",
   "metadata": {},
   "source": [
    "Found upper outliers"
   ]
  },
  {
   "cell_type": "markdown",
   "metadata": {},
   "source": [
    "## Feature 5: mean_smoothness"
   ]
  },
  {
   "cell_type": "code",
   "execution_count": 65,
   "metadata": {
    "execution": {
     "iopub.execute_input": "2022-07-11T05:45:51.297258Z",
     "iopub.status.busy": "2022-07-11T05:45:51.296948Z",
     "iopub.status.idle": "2022-07-11T05:45:51.303920Z",
     "shell.execute_reply": "2022-07-11T05:45:51.302803Z",
     "shell.execute_reply.started": "2022-07-11T05:45:51.297233Z"
    }
   },
   "outputs": [
    {
     "data": {
      "text/plain": [
       "0.45632376481955844"
      ]
     },
     "execution_count": 65,
     "metadata": {},
     "output_type": "execute_result"
    }
   ],
   "source": [
    "df['mean_smoothness'].skew(axis=0)"
   ]
  },
  {
   "cell_type": "code",
   "execution_count": 66,
   "metadata": {
    "execution": {
     "iopub.execute_input": "2022-07-11T05:45:51.305958Z",
     "iopub.status.busy": "2022-07-11T05:45:51.305549Z",
     "iopub.status.idle": "2022-07-11T05:45:51.480485Z",
     "shell.execute_reply": "2022-07-11T05:45:51.479586Z",
     "shell.execute_reply.started": "2022-07-11T05:45:51.305923Z"
    }
   },
   "outputs": [
    {
     "data": {
      "text/plain": [
       "<seaborn.axisgrid.FacetGrid at 0x21cd8f829a0>"
      ]
     },
     "execution_count": 66,
     "metadata": {},
     "output_type": "execute_result"
    },
    {
     "data": {
      "image/png": "[encoded data removed]",
      "text/plain": [
       "<Figure size 360x360 with 1 Axes>"
      ]
     },
     "metadata": {
      "needs_background": "light"
     },
     "output_type": "display_data"
    }
   ],
   "source": [
    "sns.displot(df['mean_smoothness'], kind='kde')"
   ]
  },
  {
   "cell_type": "code",
   "execution_count": 67,
   "metadata": {
    "execution": {
     "iopub.execute_input": "2022-07-11T05:45:51.482478Z",
     "iopub.status.busy": "2022-07-11T05:45:51.481912Z",
     "iopub.status.idle": "2022-07-11T05:45:51.571756Z",
     "shell.execute_reply": "2022-07-11T05:45:51.570895Z",
     "shell.execute_reply.started": "2022-07-11T05:45:51.482443Z"
    }
   },
   "outputs": [
    {
     "name": "stderr",
     "output_type": "stream",
     "text": [
      "C:\\Users\\Ragu.M\\anaconda3\\lib\\site-packages\\seaborn\\_decorators.py:36: FutureWarning: Pass the following variable as a keyword arg: x. From version 0.12, the only valid positional argument will be `data`, and passing other arguments without an explicit keyword will result in an error or misinterpretation.\n",
      "  warnings.warn(\n"
     ]
    },
    {
     "data": {
      "text/plain": [
       "<AxesSubplot:xlabel='mean_smoothness'>"
      ]
     },
     "execution_count": 67,
     "metadata": {},
     "output_type": "execute_result"
    },
    {
     "data": {
      "image/png": "[encoded data removed]",
      "text/plain": [
       "<Figure size 432x288 with 1 Axes>"
      ]
     },
     "metadata": {
      "needs_background": "light"
     },
     "output_type": "display_data"
    }
   ],
   "source": [
    "# Outliers\n",
    "sns.boxplot(df['mean_smoothness'])"
   ]
  },
  {
   "cell_type": "markdown",
   "metadata": {},
   "source": [
    "Found upper and lower outliers"
   ]
  },
  {
   "cell_type": "markdown",
   "metadata": {},
   "source": [
    "## Feature 6: Diagnosis"
   ]
  },
  {
   "cell_type": "code",
   "execution_count": 68,
   "metadata": {
    "execution": {
     "iopub.execute_input": "2022-07-11T05:45:51.573745Z",
     "iopub.status.busy": "2022-07-11T05:45:51.573119Z",
     "iopub.status.idle": "2022-07-11T05:45:51.582755Z",
     "shell.execute_reply": "2022-07-11T05:45:51.582054Z",
     "shell.execute_reply.started": "2022-07-11T05:45:51.573710Z"
    }
   },
   "outputs": [
    {
     "data": {
      "text/plain": [
       "1    357\n",
       "0    212\n",
       "Name: diagnosis, dtype: int64"
      ]
     },
     "execution_count": 68,
     "metadata": {},
     "output_type": "execute_result"
    }
   ],
   "source": [
    "df['diagnosis'].value_counts()"
   ]
  },
  {
   "cell_type": "markdown",
   "metadata": {},
   "source": [
    "## data imbalance test"
   ]
  },
  {
   "cell_type": "code",
   "execution_count": 69,
   "metadata": {
    "execution": {
     "iopub.execute_input": "2022-07-11T05:45:51.584442Z",
     "iopub.status.busy": "2022-07-11T05:45:51.584040Z",
     "iopub.status.idle": "2022-07-11T05:45:51.595757Z",
     "shell.execute_reply": "2022-07-11T05:45:51.595115Z",
     "shell.execute_reply.started": "2022-07-11T05:45:51.584418Z"
    }
   },
   "outputs": [
    {
     "data": {
      "text/plain": [
       "1    62.741652\n",
       "0    37.258348\n",
       "Name: diagnosis, dtype: float64"
      ]
     },
     "execution_count": 69,
     "metadata": {},
     "output_type": "execute_result"
    }
   ],
   "source": [
    "(df.diagnosis.value_counts() / df.shape[0]) * 100"
   ]
  },
  {
   "cell_type": "markdown",
   "metadata": {},
   "source": [
    "the data is balanced"
   ]
  },
  {
   "cell_type": "markdown",
   "metadata": {},
   "source": [
    "## Feature selection"
   ]
  },
  {
   "cell_type": "code",
   "execution_count": 70,
   "metadata": {
    "execution": {
     "iopub.execute_input": "2022-07-11T05:45:51.598371Z",
     "iopub.status.busy": "2022-07-11T05:45:51.597630Z",
     "iopub.status.idle": "2022-07-11T05:45:51.608079Z",
     "shell.execute_reply": "2022-07-11T05:45:51.607363Z",
     "shell.execute_reply.started": "2022-07-11T05:45:51.598336Z"
    }
   },
   "outputs": [
    {
     "name": "stdout",
     "output_type": "stream",
     "text": [
      "mean_radius\n",
      "True\n",
      "mean_texture\n",
      "True\n",
      "mean_perimeter\n",
      "True\n",
      "mean_area\n",
      "True\n",
      "mean_smoothness\n",
      "True\n"
     ]
    }
   ],
   "source": [
    "for feature in df.drop('diagnosis',axis=1).columns:\n",
    "    print(feature)\n",
    "    corr, p_value = pearsonr(df[feature], df.diagnosis)\n",
    "    print(p_value<0.05)\n"
   ]
  },
  {
   "cell_type": "code",
   "execution_count": 71,
   "metadata": {
    "execution": {
     "iopub.execute_input": "2022-07-11T05:45:51.613988Z",
     "iopub.status.busy": "2022-07-11T05:45:51.613595Z",
     "iopub.status.idle": "2022-07-11T05:45:51.623127Z",
     "shell.execute_reply": "2022-07-11T05:45:51.622391Z",
     "shell.execute_reply.started": "2022-07-11T05:45:51.613964Z"
    }
   },
   "outputs": [
    {
     "data": {
      "text/plain": [
       "True"
      ]
     },
     "execution_count": 71,
     "metadata": {},
     "output_type": "execute_result"
    }
   ],
   "source": [
    "p_value<0.05"
   ]
  },
  {
   "cell_type": "markdown",
   "metadata": {},
   "source": [
    "## Test for Normality"
   ]
  },
  {
   "cell_type": "code",
   "execution_count": 72,
   "metadata": {
    "execution": {
     "iopub.execute_input": "2022-07-11T05:45:51.625212Z",
     "iopub.status.busy": "2022-07-11T05:45:51.624330Z",
     "iopub.status.idle": "2022-07-11T05:45:51.637099Z",
     "shell.execute_reply": "2022-07-11T05:45:51.636290Z",
     "shell.execute_reply.started": "2022-07-11T05:45:51.625178Z"
    }
   },
   "outputs": [
    {
     "name": "stdout",
     "output_type": "stream",
     "text": [
      "mean_radius\n",
      "mean_texture\n",
      "mean_perimeter\n",
      "mean_area\n",
      "mean_smoothness\n"
     ]
    }
   ],
   "source": [
    "for feature in df.drop('diagnosis',axis=1).columns:\n",
    "    print(feature)\n",
    "    p_value= stats.normaltest(df[feature])[1]\n",
    "    if(p_value>0.05):\n",
    "        print(\"Normality test failed for the feature \", feature)"
   ]
  },
  {
   "cell_type": "markdown",
   "metadata": {},
   "source": [
    "## B. bi-variate Analysis"
   ]
  },
  {
   "cell_type": "code",
   "execution_count": 73,
   "metadata": {
    "execution": {
     "iopub.execute_input": "2022-07-11T05:45:51.639209Z",
     "iopub.status.busy": "2022-07-11T05:45:51.638264Z",
     "iopub.status.idle": "2022-07-11T05:45:51.951269Z",
     "shell.execute_reply": "2022-07-11T05:45:51.950166Z",
     "shell.execute_reply.started": "2022-07-11T05:45:51.639178Z"
    }
   },
   "outputs": [
    {
     "data": {
      "text/plain": [
       "<AxesSubplot:>"
      ]
     },
     "execution_count": 73,
     "metadata": {},
     "output_type": "execute_result"
    },
    {
     "data": {
      "image/png": "[encoded data removed]",
      "text/plain": [
       "<Figure size 864x864 with 2 Axes>"
      ]
     },
     "metadata": {
      "needs_background": "light"
     },
     "output_type": "display_data"
    }
   ],
   "source": [
    "df_corr=df.corr()\n",
    "fig,ax=plt.subplots(figsize=(12,12))\n",
    "sns.heatmap(df_corr, annot=True,linewidths=0.5,ax=ax)"
   ]
  },
  {
   "cell_type": "markdown",
   "metadata": {},
   "source": []
  },
  {
   "cell_type": "markdown",
   "metadata": {},
   "source": [
    "mean_radius,mean_perimeter,mean_area are highly correlated where as mean_texture,mean_smoothness are moderately correlated"
   ]
  },
  {
   "cell_type": "code",
   "execution_count": 74,
   "metadata": {
    "execution": {
     "iopub.execute_input": "2022-07-11T05:45:51.952914Z",
     "iopub.status.busy": "2022-07-11T05:45:51.952581Z",
     "iopub.status.idle": "2022-07-11T05:45:51.961138Z",
     "shell.execute_reply": "2022-07-11T05:45:51.959953Z",
     "shell.execute_reply.started": "2022-07-11T05:45:51.952860Z"
    }
   },
   "outputs": [
    {
     "name": "stdout",
     "output_type": "stream",
     "text": [
      "diagnosis          1.000000\n",
      "mean_smoothness   -0.358560\n",
      "mean_texture      -0.415185\n",
      "mean_area         -0.708984\n",
      "mean_radius       -0.730029\n",
      "mean_perimeter    -0.742636\n",
      "Name: diagnosis, dtype: float64 \n",
      "\n"
     ]
    }
   ],
   "source": [
    "print(df_corr['diagnosis'].sort_values(ascending=False), '\\n')"
   ]
  },
  {
   "cell_type": "markdown",
   "metadata": {},
   "source": [
    "## Pairplot"
   ]
  },
  {
   "cell_type": "code",
   "execution_count": 75,
   "metadata": {
    "execution": {
     "iopub.execute_input": "2022-07-11T05:45:51.963612Z",
     "iopub.status.busy": "2022-07-11T05:45:51.962681Z",
     "iopub.status.idle": "2022-07-11T05:45:55.952456Z",
     "shell.execute_reply": "2022-07-11T05:45:55.951041Z",
     "shell.execute_reply.started": "2022-07-11T05:45:51.963564Z"
    }
   },
   "outputs": [
    {
     "data": {
      "text/plain": [
       "<seaborn.axisgrid.PairGrid at 0x21cdb67a760>"
      ]
     },
     "execution_count": 75,
     "metadata": {},
     "output_type": "execute_result"
    },
    {
     "data": {
      "image/png": "[encoded data removed]",
      "text/plain": [
       "<Figure size 1080x1080 with 27 Axes>"
      ]
     },
     "metadata": {
      "needs_background": "light"
     },
     "output_type": "display_data"
    }
   ],
   "source": [
    "sns.pairplot(df,corner=True,diag_kind='kde')"
   ]
  },
  {
   "cell_type": "markdown",
   "metadata": {},
   "source": [
    "## Feature Scaling"
   ]
  },
  {
   "cell_type": "code",
   "execution_count": 76,
   "metadata": {
    "execution": {
     "iopub.execute_input": "2022-07-11T05:45:55.955216Z",
     "iopub.status.busy": "2022-07-11T05:45:55.954200Z",
     "iopub.status.idle": "2022-07-11T05:45:55.996164Z",
     "shell.execute_reply": "2022-07-11T05:45:55.994746Z",
     "shell.execute_reply.started": "2022-07-11T05:45:55.955167Z"
    }
   },
   "outputs": [
    {
     "data": {
      "text/html": [
       "<div>\n",
       "<style scoped>\n",
       "    .dataframe tbody tr th:only-of-type {\n",
       "        vertical-align: middle;\n",
       "    }\n",
       "\n",
       "    .dataframe tbody tr th {\n",
       "        vertical-align: top;\n",
       "    }\n",
       "\n",
       "    .dataframe thead th {\n",
       "        text-align: right;\n",
       "    }\n",
       "</style>\n",
       "<table border=\"1\" class=\"dataframe\">\n",
       "  <thead>\n",
       "    <tr style=\"text-align: right;\">\n",
       "      <th></th>\n",
       "      <th>count</th>\n",
       "      <th>mean</th>\n",
       "      <th>std</th>\n",
       "      <th>min</th>\n",
       "      <th>25%</th>\n",
       "      <th>50%</th>\n",
       "      <th>75%</th>\n",
       "      <th>max</th>\n",
       "    </tr>\n",
       "  </thead>\n",
       "  <tbody>\n",
       "    <tr>\n",
       "      <th>mean_radius</th>\n",
       "      <td>569.0</td>\n",
       "      <td>-1.256562e-16</td>\n",
       "      <td>1.00088</td>\n",
       "      <td>-2.029648</td>\n",
       "      <td>-0.689385</td>\n",
       "      <td>-0.215082</td>\n",
       "      <td>0.469393</td>\n",
       "      <td>3.971288</td>\n",
       "    </tr>\n",
       "    <tr>\n",
       "      <th>mean_texture</th>\n",
       "      <td>569.0</td>\n",
       "      <td>1.049736e-16</td>\n",
       "      <td>1.00088</td>\n",
       "      <td>-2.229249</td>\n",
       "      <td>-0.725963</td>\n",
       "      <td>-0.104636</td>\n",
       "      <td>0.584176</td>\n",
       "      <td>4.651889</td>\n",
       "    </tr>\n",
       "    <tr>\n",
       "      <th>mean_perimeter</th>\n",
       "      <td>569.0</td>\n",
       "      <td>-1.272171e-16</td>\n",
       "      <td>1.00088</td>\n",
       "      <td>-1.984504</td>\n",
       "      <td>-0.691956</td>\n",
       "      <td>-0.235980</td>\n",
       "      <td>0.499677</td>\n",
       "      <td>3.976130</td>\n",
       "    </tr>\n",
       "    <tr>\n",
       "      <th>mean_area</th>\n",
       "      <td>569.0</td>\n",
       "      <td>-1.900452e-16</td>\n",
       "      <td>1.00088</td>\n",
       "      <td>-1.454443</td>\n",
       "      <td>-0.667195</td>\n",
       "      <td>-0.295187</td>\n",
       "      <td>0.363507</td>\n",
       "      <td>5.250529</td>\n",
       "    </tr>\n",
       "    <tr>\n",
       "      <th>mean_smoothness</th>\n",
       "      <td>569.0</td>\n",
       "      <td>-8.226187e-16</td>\n",
       "      <td>1.00088</td>\n",
       "      <td>-3.112085</td>\n",
       "      <td>-0.710963</td>\n",
       "      <td>-0.034891</td>\n",
       "      <td>0.636199</td>\n",
       "      <td>4.770911</td>\n",
       "    </tr>\n",
       "  </tbody>\n",
       "</table>\n",
       "</div>"
      ],
      "text/plain": [
       "                 count          mean      std       min       25%       50%  \\\n",
       "mean_radius      569.0 -1.256562e-16  1.00088 -2.029648 -0.689385 -0.215082   \n",
       "mean_texture     569.0  1.049736e-16  1.00088 -2.229249 -0.725963 -0.104636   \n",
       "mean_perimeter   569.0 -1.272171e-16  1.00088 -1.984504 -0.691956 -0.235980   \n",
       "mean_area        569.0 -1.900452e-16  1.00088 -1.454443 -0.667195 -0.295187   \n",
       "mean_smoothness  569.0 -8.226187e-16  1.00088 -3.112085 -0.710963 -0.034891   \n",
       "\n",
       "                      75%       max  \n",
       "mean_radius      0.469393  3.971288  \n",
       "mean_texture     0.584176  4.651889  \n",
       "mean_perimeter   0.499677  3.976130  \n",
       "mean_area        0.363507  5.250529  \n",
       "mean_smoothness  0.636199  4.770911  "
      ]
     },
     "execution_count": 76,
     "metadata": {},
     "output_type": "execute_result"
    }
   ],
   "source": [
    "X=df.drop('diagnosis',axis=1)\n",
    "y=df['diagnosis']\n",
    "sc= StandardScaler().fit(X)\n",
    "X_scaled=pd.DataFrame(sc.transform(X),columns=X.columns)\n",
    "X_scaled.describe().T"
   ]
  },
  {
   "cell_type": "code",
   "execution_count": 77,
   "metadata": {
    "execution": {
     "iopub.execute_input": "2022-07-11T05:45:55.997545Z",
     "iopub.status.busy": "2022-07-11T05:45:55.997239Z",
     "iopub.status.idle": "2022-07-11T05:45:56.007763Z",
     "shell.execute_reply": "2022-07-11T05:45:56.006320Z",
     "shell.execute_reply.started": "2022-07-11T05:45:55.997516Z"
    }
   },
   "outputs": [
    {
     "data": {
      "text/plain": [
       "0      0\n",
       "1      0\n",
       "2      0\n",
       "3      0\n",
       "4      0\n",
       "      ..\n",
       "564    0\n",
       "565    0\n",
       "566    0\n",
       "567    0\n",
       "568    1\n",
       "Name: diagnosis, Length: 569, dtype: int64"
      ]
     },
     "execution_count": 77,
     "metadata": {},
     "output_type": "execute_result"
    }
   ],
   "source": [
    "y"
   ]
  },
  {
   "cell_type": "markdown",
   "metadata": {},
   "source": [
    "## Outliers Handling"
   ]
  },
  {
   "cell_type": "code",
   "execution_count": 78,
   "metadata": {
    "execution": {
     "iopub.execute_input": "2022-07-11T05:45:56.010597Z",
     "iopub.status.busy": "2022-07-11T05:45:56.009458Z",
     "iopub.status.idle": "2022-07-11T05:45:56.044939Z",
     "shell.execute_reply": "2022-07-11T05:45:56.044168Z",
     "shell.execute_reply.started": "2022-07-11T05:45:56.010557Z"
    }
   },
   "outputs": [
    {
     "data": {
      "text/html": [
       "<div>\n",
       "<style scoped>\n",
       "    .dataframe tbody tr th:only-of-type {\n",
       "        vertical-align: middle;\n",
       "    }\n",
       "\n",
       "    .dataframe tbody tr th {\n",
       "        vertical-align: top;\n",
       "    }\n",
       "\n",
       "    .dataframe thead th {\n",
       "        text-align: right;\n",
       "    }\n",
       "</style>\n",
       "<table border=\"1\" class=\"dataframe\">\n",
       "  <thead>\n",
       "    <tr style=\"text-align: right;\">\n",
       "      <th></th>\n",
       "      <th>count</th>\n",
       "      <th>mean</th>\n",
       "      <th>std</th>\n",
       "      <th>min</th>\n",
       "      <th>25%</th>\n",
       "      <th>50%</th>\n",
       "      <th>75%</th>\n",
       "      <th>max</th>\n",
       "    </tr>\n",
       "  </thead>\n",
       "  <tbody>\n",
       "    <tr>\n",
       "      <th>mean_radius</th>\n",
       "      <td>569.0</td>\n",
       "      <td>-1.256562e-16</td>\n",
       "      <td>1.000880</td>\n",
       "      <td>-2.029648</td>\n",
       "      <td>-0.689385</td>\n",
       "      <td>-0.215082</td>\n",
       "      <td>0.469393</td>\n",
       "      <td>3.971288</td>\n",
       "    </tr>\n",
       "    <tr>\n",
       "      <th>mean_texture</th>\n",
       "      <td>569.0</td>\n",
       "      <td>1.049736e-16</td>\n",
       "      <td>1.000880</td>\n",
       "      <td>-2.229249</td>\n",
       "      <td>-0.725963</td>\n",
       "      <td>-0.104636</td>\n",
       "      <td>0.584176</td>\n",
       "      <td>4.651889</td>\n",
       "    </tr>\n",
       "    <tr>\n",
       "      <th>mean_perimeter</th>\n",
       "      <td>569.0</td>\n",
       "      <td>-1.272171e-16</td>\n",
       "      <td>1.000880</td>\n",
       "      <td>-1.984504</td>\n",
       "      <td>-0.691956</td>\n",
       "      <td>-0.235980</td>\n",
       "      <td>0.499677</td>\n",
       "      <td>3.976130</td>\n",
       "    </tr>\n",
       "    <tr>\n",
       "      <th>mean_area</th>\n",
       "      <td>569.0</td>\n",
       "      <td>-8.705966e-04</td>\n",
       "      <td>0.996405</td>\n",
       "      <td>-1.454443</td>\n",
       "      <td>-0.667195</td>\n",
       "      <td>-0.295187</td>\n",
       "      <td>0.363507</td>\n",
       "      <td>5.000000</td>\n",
       "    </tr>\n",
       "    <tr>\n",
       "      <th>mean_smoothness</th>\n",
       "      <td>569.0</td>\n",
       "      <td>-8.226187e-16</td>\n",
       "      <td>1.000880</td>\n",
       "      <td>-3.112085</td>\n",
       "      <td>-0.710963</td>\n",
       "      <td>-0.034891</td>\n",
       "      <td>0.636199</td>\n",
       "      <td>4.770911</td>\n",
       "    </tr>\n",
       "  </tbody>\n",
       "</table>\n",
       "</div>"
      ],
      "text/plain": [
       "                 count          mean       std       min       25%       50%  \\\n",
       "mean_radius      569.0 -1.256562e-16  1.000880 -2.029648 -0.689385 -0.215082   \n",
       "mean_texture     569.0  1.049736e-16  1.000880 -2.229249 -0.725963 -0.104636   \n",
       "mean_perimeter   569.0 -1.272171e-16  1.000880 -1.984504 -0.691956 -0.235980   \n",
       "mean_area        569.0 -8.705966e-04  0.996405 -1.454443 -0.667195 -0.295187   \n",
       "mean_smoothness  569.0 -8.226187e-16  1.000880 -3.112085 -0.710963 -0.034891   \n",
       "\n",
       "                      75%       max  \n",
       "mean_radius      0.469393  3.971288  \n",
       "mean_texture     0.584176  4.651889  \n",
       "mean_perimeter   0.499677  3.976130  \n",
       "mean_area        0.363507  5.000000  \n",
       "mean_smoothness  0.636199  4.770911  "
      ]
     },
     "execution_count": 78,
     "metadata": {},
     "output_type": "execute_result"
    }
   ],
   "source": [
    "X_scaled = np.clip(X_scaled,-4,5)\n",
    "X_scaled.describe().T"
   ]
  },
  {
   "cell_type": "markdown",
   "metadata": {},
   "source": [
    "## Model Training"
   ]
  },
  {
   "cell_type": "code",
   "execution_count": 79,
   "metadata": {
    "execution": {
     "iopub.execute_input": "2022-07-11T05:45:56.047587Z",
     "iopub.status.busy": "2022-07-11T05:45:56.046040Z",
     "iopub.status.idle": "2022-07-11T05:45:56.055134Z",
     "shell.execute_reply": "2022-07-11T05:45:56.054018Z",
     "shell.execute_reply.started": "2022-07-11T05:45:56.047535Z"
    }
   },
   "outputs": [],
   "source": [
    "X_train,X_test,y_train,y_test = train_test_split(X_scaled,y,test_size=0.2,random_state=42)"
   ]
  },
  {
   "cell_type": "code",
   "execution_count": 80,
   "metadata": {
    "execution": {
     "iopub.execute_input": "2022-07-11T05:45:56.056905Z",
     "iopub.status.busy": "2022-07-11T05:45:56.056370Z",
     "iopub.status.idle": "2022-07-11T05:45:56.075253Z",
     "shell.execute_reply": "2022-07-11T05:45:56.074128Z",
     "shell.execute_reply.started": "2022-07-11T05:45:56.056853Z"
    }
   },
   "outputs": [
    {
     "data": {
      "text/html": [
       "<div>\n",
       "<style scoped>\n",
       "    .dataframe tbody tr th:only-of-type {\n",
       "        vertical-align: middle;\n",
       "    }\n",
       "\n",
       "    .dataframe tbody tr th {\n",
       "        vertical-align: top;\n",
       "    }\n",
       "\n",
       "    .dataframe thead th {\n",
       "        text-align: right;\n",
       "    }\n",
       "</style>\n",
       "<table border=\"1\" class=\"dataframe\">\n",
       "  <thead>\n",
       "    <tr style=\"text-align: right;\">\n",
       "      <th></th>\n",
       "      <th>mean_radius</th>\n",
       "      <th>mean_texture</th>\n",
       "      <th>mean_perimeter</th>\n",
       "      <th>mean_area</th>\n",
       "      <th>mean_smoothness</th>\n",
       "    </tr>\n",
       "  </thead>\n",
       "  <tbody>\n",
       "    <tr>\n",
       "      <th>68</th>\n",
       "      <td>-1.447987</td>\n",
       "      <td>-0.456023</td>\n",
       "      <td>-1.366651</td>\n",
       "      <td>-1.150124</td>\n",
       "      <td>0.728714</td>\n",
       "    </tr>\n",
       "    <tr>\n",
       "      <th>181</th>\n",
       "      <td>1.977508</td>\n",
       "      <td>1.694187</td>\n",
       "      <td>2.089619</td>\n",
       "      <td>1.866047</td>\n",
       "      <td>1.262455</td>\n",
       "    </tr>\n",
       "    <tr>\n",
       "      <th>63</th>\n",
       "      <td>-1.407089</td>\n",
       "      <td>-1.263516</td>\n",
       "      <td>-1.349763</td>\n",
       "      <td>-1.120545</td>\n",
       "      <td>-1.362838</td>\n",
       "    </tr>\n",
       "    <tr>\n",
       "      <th>248</th>\n",
       "      <td>-0.987600</td>\n",
       "      <td>1.380033</td>\n",
       "      <td>-0.986877</td>\n",
       "      <td>-0.875668</td>\n",
       "      <td>0.014925</td>\n",
       "    </tr>\n",
       "    <tr>\n",
       "      <th>60</th>\n",
       "      <td>-1.123927</td>\n",
       "      <td>-1.026155</td>\n",
       "      <td>-1.129395</td>\n",
       "      <td>-0.975496</td>\n",
       "      <td>1.212639</td>\n",
       "    </tr>\n",
       "    <tr>\n",
       "      <th>...</th>\n",
       "      <td>...</td>\n",
       "      <td>...</td>\n",
       "      <td>...</td>\n",
       "      <td>...</td>\n",
       "      <td>...</td>\n",
       "    </tr>\n",
       "    <tr>\n",
       "      <th>71</th>\n",
       "      <td>-1.488033</td>\n",
       "      <td>-1.082004</td>\n",
       "      <td>-1.366651</td>\n",
       "      <td>-1.168611</td>\n",
       "      <td>0.104593</td>\n",
       "    </tr>\n",
       "    <tr>\n",
       "      <th>106</th>\n",
       "      <td>-0.706426</td>\n",
       "      <td>-0.223317</td>\n",
       "      <td>-0.691956</td>\n",
       "      <td>-0.689379</td>\n",
       "      <td>1.269571</td>\n",
       "    </tr>\n",
       "    <tr>\n",
       "      <th>270</th>\n",
       "      <td>0.046211</td>\n",
       "      <td>-0.574704</td>\n",
       "      <td>-0.068748</td>\n",
       "      <td>-0.063392</td>\n",
       "      <td>-2.282296</td>\n",
       "    </tr>\n",
       "    <tr>\n",
       "      <th>435</th>\n",
       "      <td>-0.041833</td>\n",
       "      <td>0.076875</td>\n",
       "      <td>-0.034972</td>\n",
       "      <td>-0.157532</td>\n",
       "      <td>0.686015</td>\n",
       "    </tr>\n",
       "    <tr>\n",
       "      <th>102</th>\n",
       "      <td>-0.553058</td>\n",
       "      <td>0.286311</td>\n",
       "      <td>-0.607516</td>\n",
       "      <td>-0.557982</td>\n",
       "      <td>-1.155035</td>\n",
       "    </tr>\n",
       "  </tbody>\n",
       "</table>\n",
       "<p>455 rows × 5 columns</p>\n",
       "</div>"
      ],
      "text/plain": [
       "     mean_radius  mean_texture  mean_perimeter  mean_area  mean_smoothness\n",
       "68     -1.447987     -0.456023       -1.366651  -1.150124         0.728714\n",
       "181     1.977508      1.694187        2.089619   1.866047         1.262455\n",
       "63     -1.407089     -1.263516       -1.349763  -1.120545        -1.362838\n",
       "248    -0.987600      1.380033       -0.986877  -0.875668         0.014925\n",
       "60     -1.123927     -1.026155       -1.129395  -0.975496         1.212639\n",
       "..           ...           ...             ...        ...              ...\n",
       "71     -1.488033     -1.082004       -1.366651  -1.168611         0.104593\n",
       "106    -0.706426     -0.223317       -0.691956  -0.689379         1.269571\n",
       "270     0.046211     -0.574704       -0.068748  -0.063392        -2.282296\n",
       "435    -0.041833      0.076875       -0.034972  -0.157532         0.686015\n",
       "102    -0.553058      0.286311       -0.607516  -0.557982        -1.155035\n",
       "\n",
       "[455 rows x 5 columns]"
      ]
     },
     "execution_count": 80,
     "metadata": {},
     "output_type": "execute_result"
    }
   ],
   "source": [
    "X_train"
   ]
  },
  {
   "cell_type": "code",
   "execution_count": 81,
   "metadata": {
    "execution": {
     "iopub.execute_input": "2022-07-11T05:45:56.077683Z",
     "iopub.status.busy": "2022-07-11T05:45:56.077328Z",
     "iopub.status.idle": "2022-07-11T05:45:56.086407Z",
     "shell.execute_reply": "2022-07-11T05:45:56.084670Z",
     "shell.execute_reply.started": "2022-07-11T05:45:56.077653Z"
    }
   },
   "outputs": [
    {
     "data": {
      "text/plain": [
       "((455, 5), (114, 5), (455,), (114,))"
      ]
     },
     "execution_count": 81,
     "metadata": {},
     "output_type": "execute_result"
    }
   ],
   "source": [
    "X_train.shape,X_test.shape,y_train.shape,y_test.shape"
   ]
  },
  {
   "cell_type": "code",
   "execution_count": 82,
   "metadata": {
    "execution": {
     "iopub.execute_input": "2022-07-11T05:45:56.089302Z",
     "iopub.status.busy": "2022-07-11T05:45:56.088228Z",
     "iopub.status.idle": "2022-07-11T05:45:56.099528Z",
     "shell.execute_reply": "2022-07-11T05:45:56.098510Z",
     "shell.execute_reply.started": "2022-07-11T05:45:56.089185Z"
    }
   },
   "outputs": [],
   "source": [
    "lr = LinearRegression()\n",
    "lr.fit(X_train,y_train)\n",
    "\n",
    "y_pred = lr.predict(X_test)>0.5"
   ]
  },
  {
   "cell_type": "code",
   "execution_count": 83,
   "metadata": {
    "execution": {
     "iopub.execute_input": "2022-07-11T05:45:56.101337Z",
     "iopub.status.busy": "2022-07-11T05:45:56.100813Z",
     "iopub.status.idle": "2022-07-11T05:45:56.111844Z",
     "shell.execute_reply": "2022-07-11T05:45:56.110193Z",
     "shell.execute_reply.started": "2022-07-11T05:45:56.101300Z"
    }
   },
   "outputs": [
    {
     "name": "stdout",
     "output_type": "stream",
     "text": [
      "0.7759580740255486\n"
     ]
    }
   ],
   "source": [
    "from sklearn.metrics import r2_score\n",
    "R2=r2_score(y_test,y_pred)\n",
    "print(R2)"
   ]
  },
  {
   "cell_type": "markdown",
   "metadata": {},
   "source": [
    "R_square value with greter than>0.5 is better "
   ]
  },
  {
   "cell_type": "code",
   "execution_count": 84,
   "metadata": {
    "execution": {
     "iopub.execute_input": "2022-07-11T05:45:56.114848Z",
     "iopub.status.busy": "2022-07-11T05:45:56.114096Z",
     "iopub.status.idle": "2022-07-11T05:45:56.126357Z",
     "shell.execute_reply": "2022-07-11T05:45:56.124965Z",
     "shell.execute_reply.started": "2022-07-11T05:45:56.114817Z"
    }
   },
   "outputs": [
    {
     "data": {
      "text/plain": [
       "array([ True, False, False,  True,  True, False, False, False,  True,\n",
       "        True,  True, False,  True, False,  True, False,  True,  True,\n",
       "        True, False,  True,  True, False,  True,  True,  True,  True,\n",
       "        True,  True, False,  True,  True,  True,  True,  True,  True,\n",
       "        True,  True, False,  True,  True, False,  True,  True,  True,\n",
       "        True,  True,  True,  True,  True, False, False,  True,  True,\n",
       "        True,  True,  True, False,  True,  True,  True, False, False,\n",
       "        True,  True,  True, False, False,  True,  True, False, False,\n",
       "        True, False,  True,  True,  True,  True,  True,  True, False,\n",
       "        True,  True, False, False, False, False, False,  True,  True,\n",
       "        True,  True,  True,  True,  True,  True, False, False,  True,\n",
       "       False, False,  True, False, False,  True,  True,  True, False,\n",
       "        True,  True, False,  True, False, False])"
      ]
     },
     "execution_count": 84,
     "metadata": {},
     "output_type": "execute_result"
    }
   ],
   "source": [
    "y_pred"
   ]
  },
  {
   "cell_type": "markdown",
   "metadata": {},
   "source": [
    "## Accuracy Metrics"
   ]
  },
  {
   "cell_type": "code",
   "execution_count": 85,
   "metadata": {
    "execution": {
     "iopub.execute_input": "2022-07-11T05:45:56.128522Z",
     "iopub.status.busy": "2022-07-11T05:45:56.127683Z",
     "iopub.status.idle": "2022-07-11T05:45:56.140160Z",
     "shell.execute_reply": "2022-07-11T05:45:56.138301Z",
     "shell.execute_reply.started": "2022-07-11T05:45:56.128480Z"
    }
   },
   "outputs": [
    {
     "data": {
      "text/plain": [
       "0.9473684210526315"
      ]
     },
     "execution_count": 85,
     "metadata": {},
     "output_type": "execute_result"
    }
   ],
   "source": [
    "accuracy_score(y_test,y_pred)"
   ]
  },
  {
   "cell_type": "markdown",
   "metadata": {},
   "source": [
    "Got a good accuracy of ~95%"
   ]
  },
  {
   "cell_type": "code",
   "execution_count": 86,
   "metadata": {
    "execution": {
     "iopub.execute_input": "2022-07-11T05:45:56.142731Z",
     "iopub.status.busy": "2022-07-11T05:45:56.141809Z",
     "iopub.status.idle": "2022-07-11T05:45:56.150841Z",
     "shell.execute_reply": "2022-07-11T05:45:56.149780Z",
     "shell.execute_reply.started": "2022-07-11T05:45:56.142684Z"
    }
   },
   "outputs": [
    {
     "data": {
      "text/plain": [
       "array([[38,  5],\n",
       "       [ 1, 70]], dtype=int64)"
      ]
     },
     "execution_count": 86,
     "metadata": {},
     "output_type": "execute_result"
    }
   ],
   "source": [
    "# Confusion_matrix\n",
    "confusion_matrix(y_test,y_pred)"
   ]
  },
  {
   "cell_type": "code",
   "execution_count": 87,
   "metadata": {
    "execution": {
     "iopub.execute_input": "2022-07-11T05:45:56.153135Z",
     "iopub.status.busy": "2022-07-11T05:45:56.152538Z",
     "iopub.status.idle": "2022-07-11T05:45:56.163283Z",
     "shell.execute_reply": "2022-07-11T05:45:56.161946Z",
     "shell.execute_reply.started": "2022-07-11T05:45:56.153101Z"
    }
   },
   "outputs": [
    {
     "data": {
      "text/plain": [
       "('MAE: ', 0.05263157894736842)"
      ]
     },
     "execution_count": 87,
     "metadata": {},
     "output_type": "execute_result"
    }
   ],
   "source": [
    "'MAE: ', mean_squared_error(y_test,y_pred)"
   ]
  },
  {
   "cell_type": "code",
   "execution_count": 88,
   "metadata": {
    "execution": {
     "iopub.execute_input": "2022-07-11T05:45:56.165994Z",
     "iopub.status.busy": "2022-07-11T05:45:56.165209Z",
     "iopub.status.idle": "2022-07-11T05:45:56.174931Z",
     "shell.execute_reply": "2022-07-11T05:45:56.173678Z",
     "shell.execute_reply.started": "2022-07-11T05:45:56.165952Z"
    }
   },
   "outputs": [
    {
     "data": {
      "text/plain": [
       "0.05263157894736842"
      ]
     },
     "execution_count": 88,
     "metadata": {},
     "output_type": "execute_result"
    }
   ],
   "source": [
    "mean_absolute_error(y_test,y_pred)"
   ]
  },
  {
   "cell_type": "code",
   "execution_count": 89,
   "metadata": {
    "execution": {
     "iopub.execute_input": "2022-07-11T05:45:56.177572Z",
     "iopub.status.busy": "2022-07-11T05:45:56.176654Z",
     "iopub.status.idle": "2022-07-11T05:45:56.187355Z",
     "shell.execute_reply": "2022-07-11T05:45:56.185732Z",
     "shell.execute_reply.started": "2022-07-11T05:45:56.177533Z"
    }
   },
   "outputs": [
    {
     "data": {
      "text/plain": [
       "array([ 0.15366558, -0.10381279, -0.76157241,  0.31175028, -0.10434338])"
      ]
     },
     "execution_count": 89,
     "metadata": {},
     "output_type": "execute_result"
    }
   ],
   "source": [
    "lr.coef_"
   ]
  },
  {
   "cell_type": "code",
   "execution_count": 90,
   "metadata": {
    "execution": {
     "iopub.execute_input": "2022-07-11T05:45:56.189723Z",
     "iopub.status.busy": "2022-07-11T05:45:56.189093Z",
     "iopub.status.idle": "2022-07-11T05:45:56.199814Z",
     "shell.execute_reply": "2022-07-11T05:45:56.198942Z",
     "shell.execute_reply.started": "2022-07-11T05:45:56.189671Z"
    }
   },
   "outputs": [
    {
     "data": {
      "text/plain": [
       "0.6199598122889786"
      ]
     },
     "execution_count": 90,
     "metadata": {},
     "output_type": "execute_result"
    }
   ],
   "source": [
    "lr.intercept_"
   ]
  },
  {
   "cell_type": "markdown",
   "metadata": {},
   "source": [
    "## Conclusion\n",
    "* **The Breast Cancer Prediction project is not only a data science endeavor but also a life-saving initiative. By developing a predictive model that aids in the early diagnosis of breast cancer, we aim to contribute to improved patient outcomes and the overall well-being of individuals affected by this disease. This project represents a convergence of medical knowledge and advanced data analysis techniques, with the ultimate goal of enhancing the capabilities of healthcare professionals in the fight against breast cancer.**"
   ]
  },
  {
   "cell_type": "code",
   "execution_count": null,
   "metadata": {},
   "outputs": [],
   "source": []
  }
 ],
 "metadata": {
  "kernelspec": {
   "display_name": "Python 3 (ipykernel)",
   "language": "python",
   "name": "python3"
  },
  "language_info": {
   "codemirror_mode": {
    "name": "ipython",
    "version": 3
   },
   "file_extension": ".py",
   "mimetype": "text/x-python",
   "name": "python",
   "nbconvert_exporter": "python",
   "pygments_lexer": "ipython3",
   "version": "3.9.12"
  }
 },
 "nbformat": 4,
 "nbformat_minor": 4
}
